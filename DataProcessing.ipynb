{
 "cells": [
  {
   "cell_type": "code",
   "execution_count": 3,
   "metadata": {},
   "outputs": [],
   "source": [
    "from bs4 import BeautifulSoup\n",
    "import requests\n",
    "import os\n",
    "import json\n",
    "import pandas as pd\n",
    "import csv"
   ]
  },
  {
   "cell_type": "markdown",
   "metadata": {},
   "source": [
    "# Web Scraping"
   ]
  },
  {
   "cell_type": "code",
   "execution_count": 4,
   "metadata": {},
   "outputs": [],
   "source": [
    "url = 'https://worldhappiness.report/ed/2024/'\n",
    "response = requests.get(url)\n",
    "soup = BeautifulSoup(response.text, 'html.parser')\n",
    "\n",
    "excel_link = None\n",
    "for link in soup.find_all('a'):\n",
    "    if \"Data for Table 2.1\" in link.get_text():\n",
    "        excel_link = link.get('href')\n",
    "        break\n",
    "\n",
    "if excel_link:\n",
    "    # Download the excel file\n",
    "    excel_response = requests.get(excel_link)\n",
    "\n",
    "    # Save the excel file\n",
    "    with open(\"data/world_happiness_data.xlsx\", \"wb\") as f:\n",
    "        f.write(excel_response.content)\n",
    "\n",
    "    # Convert the excel file to csv\n",
    "    df = pd.read_excel(\"data/world_happiness_data.xlsx\")\n",
    "    df.to_csv(\"data/world_happiness_data.csv\", index=False)\n",
    "\n",
    "    # Delete the excel file\n",
    "    os.remove(\"data/world_happiness_data.xlsx\")"
   ]
  },
  {
   "cell_type": "markdown",
   "metadata": {},
   "source": [
    "# Turing into JSON for Better Processing"
   ]
  },
  {
   "cell_type": "code",
   "execution_count": 5,
   "metadata": {},
   "outputs": [],
   "source": [
    "country_data = {}\n",
    "\n",
    "with open(\"data/world_happiness_data.csv\", \"r\") as csv_file:\n",
    "    csv_reader = csv.DictReader(csv_file)\n",
    "    for row in csv_reader:\n",
    "        country = row[\"Country name\"]\n",
    "        year = row[\"year\"]\n",
    "        data = {key: value for key, value in row.items() if key not in [\"Country name\", \"year\"]}\n",
    "\n",
    "        # Check if any value in the data dictionary is empty\n",
    "        if not all(data.values()):\n",
    "            data = {key: None if value == \"\" else value for key, value in data.items()}\n",
    "\n",
    "        if country not in country_data:\n",
    "            country_data[country] = {}\n",
    "\n",
    "        country_data[country][year] = data\n",
    "\n",
    "json_data = json.dumps(country_data)\n",
    "with open(\"data/world_happiness_data.json\", \"w\") as f:\n",
    "    f.write(json_data)\n"
   ]
  },
  {
   "cell_type": "markdown",
   "metadata": {},
   "source": [
    "## Change to Individual JSON Files for Each Attribute"
   ]
  },
  {
   "cell_type": "code",
   "execution_count": 6,
   "metadata": {},
   "outputs": [],
   "source": [
    "with open(\"data/world_happiness_data.json\", \"r\") as f:\n",
    "    data = json.load(f)\n",
    "\n",
    "# Initialize a dictionary to hold data for each attribute\n",
    "attribute_data = {}\n",
    "\n",
    "# Extract data for each attribute\n",
    "for country, years in data.items():\n",
    "    for year, attributes in years.items():\n",
    "        for attribute, value in attributes.items():\n",
    "            # Initialize the country in attribute_data if it's not already there\n",
    "            if attribute not in attribute_data:\n",
    "                attribute_data[attribute] = {}\n",
    "            if country not in attribute_data[attribute]:\n",
    "                attribute_data[attribute][country] = {}\n",
    "\n",
    "            # Add the year and value for the country in the attribute-specific dictionary\n",
    "            attribute_data[attribute][country][year] = float(value) if value else None"
   ]
  },
  {
   "cell_type": "code",
   "execution_count": 7,
   "metadata": {},
   "outputs": [],
   "source": [
    "# Multiply the values of the attributes by 10\n",
    "for attribute, countries in attribute_data.items():\n",
    "    if attribute == \"Life Ladder\" or attribute == \"Log GDP per capita\" or attribute == \"Healthy life expectancy at birth\":\n",
    "        continue\n",
    "    for country, years in countries.items():\n",
    "        for year, value in years.items():\n",
    "            if value:\n",
    "                attribute_data[attribute][country][year] = value * 10"
   ]
  },
  {
   "cell_type": "code",
   "execution_count": 8,
   "metadata": {},
   "outputs": [],
   "source": [
    "# Now, save each attribute data into a separate JSON file\n",
    "for attribute, values in attribute_data.items():\n",
    "    file_name = attribute.replace(\" \", \"_\").lower() + \".json\"\n",
    "    with open(f\"data/{file_name}\", \"w\") as f:\n",
    "        json.dump(values, f)"
   ]
  },
  {
   "cell_type": "markdown",
   "metadata": {},
   "source": [
    "# Standardizing/Normalizing Data"
   ]
  },
  {
   "cell_type": "code",
   "execution_count": 9,
   "metadata": {},
   "outputs": [],
   "source": [
    "# Standardize\n",
    "for attribute, countries in attribute_data.items():\n",
    "    for country, years in countries.items():\n",
    "        # Filter out None values before processing\n",
    "        values = [value for value in years.values() if value is not None]\n",
    "        if values:  # Check if the list is not empty\n",
    "            mean = sum(values) / len(values)\n",
    "            std_dev = (sum((value - mean) ** 2 for value in values) / len(values)) ** 0.5\n",
    "            if std_dev == 0:  # Check if standard deviation is zero\n",
    "                attribute_data[attribute][country] = {year: 0 for year in years}\n",
    "            else:\n",
    "                attribute_data[attribute][country] = {year: (years[year] - mean) / std_dev if years[year] is not None else None for year in years}\n",
    "        else:\n",
    "            # Handle the case where all values are None\n",
    "            attribute_data[attribute][country] = {year: None for year in years}\n",
    "\n",
    "for attribute, values in attribute_data.items():\n",
    "    file_name = f\"data/{attribute.replace(' ', '_').lower()}S.json\"\n",
    "    with open(file_name, \"w\") as f:\n",
    "        json.dump(values, f)\n",
    "\n",
    "# Normalize\n",
    "for attribute, countries in attribute_data.items():\n",
    "    for country, years in countries.items():\n",
    "        # Again, filter out None values\n",
    "        values = [value for value in years.values() if value is not None]\n",
    "        if values:  # Check if the list is not empty\n",
    "            min_value = min(values)\n",
    "            max_value = max(values)\n",
    "            if max_value == min_value:  # Check if all values are the same\n",
    "                attribute_data[attribute][country] = {year: 0 for year in years}\n",
    "            else:\n",
    "                attribute_data[attribute][country] = {year: (years[year] - min_value) / (max_value - min_value) if years[year] is not None else None for year in years}\n",
    "        else:\n",
    "            # Handle the case where all values are None\n",
    "            attribute_data[attribute][country] = {year: None for year in years}\n",
    "\n",
    "for attribute, values in attribute_data.items():\n",
    "    file_name = f\"data/{attribute.replace(' ', '_').lower()}N.json\"\n",
    "    with open(file_name, \"w\") as f:\n",
    "        json.dump(values, f)"
   ]
  },
  {
   "cell_type": "markdown",
   "metadata": {},
   "source": [
    "# Make Sure TOPO.JSON Countries Align with World Happiness Report Countries"
   ]
  },
  {
   "cell_type": "code",
   "execution_count": 10,
   "metadata": {},
   "outputs": [
    {
     "ename": "FileNotFoundError",
     "evalue": "[Errno 2] No such file or directory: 'data/countries.topo.json'",
     "output_type": "error",
     "traceback": [
      "\u001b[0;31m---------------------------------------------------------------------------\u001b[0m",
      "\u001b[0;31mFileNotFoundError\u001b[0m                         Traceback (most recent call last)",
      "Cell \u001b[0;32mIn[10], line 4\u001b[0m\n\u001b[1;32m      1\u001b[0m \u001b[38;5;28;01mwith\u001b[39;00m \u001b[38;5;28mopen\u001b[39m(\u001b[38;5;124m\"\u001b[39m\u001b[38;5;124mdata/world_happiness_data.json\u001b[39m\u001b[38;5;124m\"\u001b[39m, \u001b[38;5;124m\"\u001b[39m\u001b[38;5;124mr\u001b[39m\u001b[38;5;124m\"\u001b[39m) \u001b[38;5;28;01mas\u001b[39;00m f:\n\u001b[1;32m      2\u001b[0m     data \u001b[38;5;241m=\u001b[39m json\u001b[38;5;241m.\u001b[39mload(f)\n\u001b[0;32m----> 4\u001b[0m \u001b[38;5;28;01mwith\u001b[39;00m \u001b[38;5;28mopen\u001b[39m(\u001b[38;5;124m\"\u001b[39m\u001b[38;5;124mdata/countries.topo.json\u001b[39m\u001b[38;5;124m\"\u001b[39m, \u001b[38;5;124m\"\u001b[39m\u001b[38;5;124mr\u001b[39m\u001b[38;5;124m\"\u001b[39m) \u001b[38;5;28;01mas\u001b[39;00m f:\n\u001b[1;32m      5\u001b[0m     countries \u001b[38;5;241m=\u001b[39m json\u001b[38;5;241m.\u001b[39mload(f)\n\u001b[1;32m      7\u001b[0m countries_topo \u001b[38;5;241m=\u001b[39m countries[\u001b[38;5;124m'\u001b[39m\u001b[38;5;124mobjects\u001b[39m\u001b[38;5;124m'\u001b[39m][\u001b[38;5;124m'\u001b[39m\u001b[38;5;124mcountries\u001b[39m\u001b[38;5;124m'\u001b[39m][\u001b[38;5;124m'\u001b[39m\u001b[38;5;124mgeometries\u001b[39m\u001b[38;5;124m'\u001b[39m]\n",
      "File \u001b[0;32m~/anaconda3/lib/python3.11/site-packages/IPython/core/interactiveshell.py:284\u001b[0m, in \u001b[0;36m_modified_open\u001b[0;34m(file, *args, **kwargs)\u001b[0m\n\u001b[1;32m    277\u001b[0m \u001b[38;5;28;01mif\u001b[39;00m file \u001b[38;5;129;01min\u001b[39;00m {\u001b[38;5;241m0\u001b[39m, \u001b[38;5;241m1\u001b[39m, \u001b[38;5;241m2\u001b[39m}:\n\u001b[1;32m    278\u001b[0m     \u001b[38;5;28;01mraise\u001b[39;00m \u001b[38;5;167;01mValueError\u001b[39;00m(\n\u001b[1;32m    279\u001b[0m         \u001b[38;5;124mf\u001b[39m\u001b[38;5;124m\"\u001b[39m\u001b[38;5;124mIPython won\u001b[39m\u001b[38;5;124m'\u001b[39m\u001b[38;5;124mt let you open fd=\u001b[39m\u001b[38;5;132;01m{\u001b[39;00mfile\u001b[38;5;132;01m}\u001b[39;00m\u001b[38;5;124m by default \u001b[39m\u001b[38;5;124m\"\u001b[39m\n\u001b[1;32m    280\u001b[0m         \u001b[38;5;124m\"\u001b[39m\u001b[38;5;124mas it is likely to crash IPython. If you know what you are doing, \u001b[39m\u001b[38;5;124m\"\u001b[39m\n\u001b[1;32m    281\u001b[0m         \u001b[38;5;124m\"\u001b[39m\u001b[38;5;124myou can use builtins\u001b[39m\u001b[38;5;124m'\u001b[39m\u001b[38;5;124m open.\u001b[39m\u001b[38;5;124m\"\u001b[39m\n\u001b[1;32m    282\u001b[0m     )\n\u001b[0;32m--> 284\u001b[0m \u001b[38;5;28;01mreturn\u001b[39;00m io_open(file, \u001b[38;5;241m*\u001b[39margs, \u001b[38;5;241m*\u001b[39m\u001b[38;5;241m*\u001b[39mkwargs)\n",
      "\u001b[0;31mFileNotFoundError\u001b[0m: [Errno 2] No such file or directory: 'data/countries.topo.json'"
     ]
    }
   ],
   "source": [
    "with open(\"data/world_happiness_data.json\", \"r\") as f:\n",
    "    data = json.load(f)\n",
    "\n",
    "with open(\"data/countries.topo.json\", \"r\") as f:\n",
    "    countries = json.load(f)\n",
    "\n",
    "countries_topo = countries['objects']['countries']['geometries']\n",
    "countries_topo = {country['properties']['name'] for country in countries_topo}\n",
    "\n",
    "countries_data = {country for country in data}\n",
    "\n",
    "# Find countries that aren't in topojson but are in the data\n",
    "missing_countries = countries_data - countries_topo\n",
    "missing_countries"
   ]
  }
 ],
 "metadata": {
  "kernelspec": {
   "display_name": "base",
   "language": "python",
   "name": "python3"
  },
  "language_info": {
   "codemirror_mode": {
    "name": "ipython",
    "version": 3
   },
   "file_extension": ".py",
   "mimetype": "text/x-python",
   "name": "python",
   "nbconvert_exporter": "python",
   "pygments_lexer": "ipython3",
   "version": "3.11.4"
  }
 },
 "nbformat": 4,
 "nbformat_minor": 2
}
