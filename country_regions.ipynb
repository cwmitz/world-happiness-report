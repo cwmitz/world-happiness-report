{
 "cells": [
  {
   "cell_type": "code",
   "execution_count": 13,
   "metadata": {},
   "outputs": [],
   "source": [
    "import csv\n",
    "\n",
    "with open(\"data/world_happiness_data.csv\") as f:\n",
    "    reader = csv.DictReader(f)\n",
    "    countries = set()\n",
    "    for row in reader:\n",
    "        countries.add(row[\"Country name\"])\n",
    "\n",
    "with open(\"data/world_regions.csv\") as f:\n",
    "    reader = csv.DictReader(f)\n",
    "    country_to_region = {}\n",
    "    for row in reader:\n",
    "        country_to_region[row[\"Entity\"]] = row[\n",
    "            \"world-regions-according-to-the-united-nations\"\n",
    "        ]"
   ]
  },
  {
   "cell_type": "code",
   "execution_count": 14,
   "metadata": {},
   "outputs": [],
   "source": [
    "# see if countries and country_to_region countries match\n",
    "for country in countries:\n",
    "    if country not in country_to_region:\n",
    "        print(f\"{country} not in country_to_region\")"
   ]
  }
 ],
 "metadata": {
  "kernelspec": {
   "display_name": "base",
   "language": "python",
   "name": "python3"
  },
  "language_info": {
   "codemirror_mode": {
    "name": "ipython",
    "version": 3
   },
   "file_extension": ".py",
   "mimetype": "text/x-python",
   "name": "python",
   "nbconvert_exporter": "python",
   "pygments_lexer": "ipython3",
   "version": "3.11.4"
  }
 },
 "nbformat": 4,
 "nbformat_minor": 2
}
